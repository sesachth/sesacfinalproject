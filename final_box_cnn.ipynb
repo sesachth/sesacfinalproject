{
 "cells": [
  {
   "cell_type": "code",
   "execution_count": 1,
   "metadata": {},
   "outputs": [
    {
     "name": "stdout",
     "output_type": "stream",
     "text": [
      "WARNING:tensorflow:From c:\\labs_python\\.venv\\lib\\site-packages\\keras\\src\\losses.py:2976: The name tf.losses.sparse_softmax_cross_entropy is deprecated. Please use tf.compat.v1.losses.sparse_softmax_cross_entropy instead.\n",
      "\n"
     ]
    }
   ],
   "source": [
    "import os\n",
    "import numpy as np\n",
    "import matplotlib.pyplot as plt\n",
    "\n",
    "from tensorflow.keras.preprocessing.image import ImageDataGenerator, load_img, img_to_array\n",
    "from tensorflow.keras.models import Sequential\n",
    "from tensorflow.keras.layers import Conv2D, MaxPooling2D, Flatten, Dense, Dropout, LeakyReLU\n",
    "from tensorflow.keras.optimizers import Adam\n",
    "from tensorflow.keras.callbacks import EarlyStopping, ModelCheckpoint\n",
    "\n",
    "from sklearn.model_selection import train_test_split\n",
    "from sklearn.preprocessing import LabelEncoder"
   ]
  },
  {
   "cell_type": "code",
   "execution_count": 2,
   "metadata": {},
   "outputs": [],
   "source": [
    "# 이미지 로드 및 라벨링 함수\n",
    "def load_images_and_labels(directory):\n",
    "    images = []\n",
    "    labels = []\n",
    "    for filename in os.listdir(directory):\n",
    "        if filename.startswith('image_damaged_') or filename.startswith('rembg_image_damaged_'):\n",
    "            label = 'damaged'\n",
    "        elif filename.startswith('image_normal_') or filename.startswith('rembg_image_normal_'):\n",
    "            label = 'normal'\n",
    "        else:\n",
    "            continue\n",
    "        \n",
    "        img_path = os.path.join(directory, filename)\n",
    "        img = load_img(img_path)\n",
    "\n",
    "        if img.size < (50, 50):\n",
    "            continue\n",
    "        else:\n",
    "            img = load_img(img_path, target_size=(224, 224))\n",
    "\n",
    "        img_array = img_to_array(img)\n",
    "        images.append(img_array)\n",
    "        labels.append(label)\n",
    "    \n",
    "    return np.array(images), np.array(labels)"
   ]
  },
  {
   "cell_type": "code",
   "execution_count": 3,
   "metadata": {},
   "outputs": [],
   "source": [
    "# 이미지 및 라벨 로드\n",
    "image_directory = 'images'\n",
    "X, y = load_images_and_labels(image_directory)"
   ]
  },
  {
   "cell_type": "code",
   "execution_count": 4,
   "metadata": {},
   "outputs": [],
   "source": [
    "# 라벨 인코딩\n",
    "le = LabelEncoder()\n",
    "y = le.fit_transform(y)"
   ]
  },
  {
   "cell_type": "code",
   "execution_count": 5,
   "metadata": {},
   "outputs": [
    {
     "data": {
      "text/plain": [
       "((2312, 224, 224, 3), (2312,))"
      ]
     },
     "execution_count": 5,
     "metadata": {},
     "output_type": "execute_result"
    }
   ],
   "source": [
    "# 데이터 분할\n",
    "X_train, X_test, y_train, y_test = train_test_split(X, y, test_size=0.2, random_state=42)\n",
    "X_train.shape, y_train.shape"
   ]
  },
  {
   "cell_type": "code",
   "execution_count": 6,
   "metadata": {},
   "outputs": [],
   "source": [
    "# 데이터 증강\n",
    "datagen = ImageDataGenerator(\n",
    "    rescale=1./255,\n",
    "    rotation_range=20,\n",
    "    width_shift_range=0.2,\n",
    "    height_shift_range=0.2,\n",
    "    horizontal_flip=True,\n",
    "    vertical_flip=True,\n",
    "    zoom_range=0.2,\n",
    "    shear_range=0.2,\n",
    "    fill_mode='nearest'\n",
    ")"
   ]
  },
  {
   "cell_type": "code",
   "execution_count": 7,
   "metadata": {},
   "outputs": [
    {
     "name": "stdout",
     "output_type": "stream",
     "text": [
      "WARNING:tensorflow:From c:\\labs_python\\.venv\\lib\\site-packages\\keras\\src\\backend.py:873: The name tf.get_default_graph is deprecated. Please use tf.compat.v1.get_default_graph instead.\n",
      "\n",
      "WARNING:tensorflow:From c:\\labs_python\\.venv\\lib\\site-packages\\keras\\src\\layers\\pooling\\max_pooling2d.py:161: The name tf.nn.max_pool is deprecated. Please use tf.nn.max_pool2d instead.\n",
      "\n"
     ]
    }
   ],
   "source": [
    "# CNN 모델 정의\n",
    "model = Sequential([\n",
    "    Conv2D(16, (5, 5), activation=LeakyReLU(alpha=0.01), input_shape=(224, 224, 3)),\n",
    "    MaxPooling2D(2, 2),\n",
    "    Conv2D(32, (5, 5), activation=LeakyReLU(alpha=0.01)),\n",
    "    MaxPooling2D(2, 2),\n",
    "    Conv2D(64, (5, 5), activation=LeakyReLU(alpha=0.01)),\n",
    "    MaxPooling2D(2, 2),\n",
    "    Conv2D(128, (5, 5), activation=LeakyReLU(alpha=0.01)),\n",
    "    MaxPooling2D(2, 2),\n",
    "    Conv2D(256, (5, 5), activation=LeakyReLU(alpha=0.01)),\n",
    "    MaxPooling2D(2, 2),\n",
    "    Flatten(),\n",
    "    Dense(256, activation=LeakyReLU(alpha=0.01)),\n",
    "    Dropout(0.2),\n",
    "    Dense(1, activation='sigmoid')\n",
    "])"
   ]
  },
  {
   "cell_type": "code",
   "execution_count": 8,
   "metadata": {},
   "outputs": [
    {
     "name": "stdout",
     "output_type": "stream",
     "text": [
      "Model: \"sequential\"\n",
      "_________________________________________________________________\n",
      " Layer (type)                Output Shape              Param #   \n",
      "=================================================================\n",
      " conv2d (Conv2D)             (None, 220, 220, 16)      1216      \n",
      "                                                                 \n",
      " max_pooling2d (MaxPooling2  (None, 110, 110, 16)      0         \n",
      " D)                                                              \n",
      "                                                                 \n",
      " conv2d_1 (Conv2D)           (None, 106, 106, 32)      12832     \n",
      "                                                                 \n",
      " max_pooling2d_1 (MaxPoolin  (None, 53, 53, 32)        0         \n",
      " g2D)                                                            \n",
      "                                                                 \n",
      " conv2d_2 (Conv2D)           (None, 49, 49, 64)        51264     \n",
      "                                                                 \n",
      " max_pooling2d_2 (MaxPoolin  (None, 24, 24, 64)        0         \n",
      " g2D)                                                            \n",
      "                                                                 \n",
      " conv2d_3 (Conv2D)           (None, 20, 20, 128)       204928    \n",
      "                                                                 \n",
      " max_pooling2d_3 (MaxPoolin  (None, 10, 10, 128)       0         \n",
      " g2D)                                                            \n",
      "                                                                 \n",
      " conv2d_4 (Conv2D)           (None, 6, 6, 256)         819456    \n",
      "                                                                 \n",
      " max_pooling2d_4 (MaxPoolin  (None, 3, 3, 256)         0         \n",
      " g2D)                                                            \n",
      "                                                                 \n",
      " flatten (Flatten)           (None, 2304)              0         \n",
      "                                                                 \n",
      " dense (Dense)               (None, 256)               590080    \n",
      "                                                                 \n",
      " dropout (Dropout)           (None, 256)               0         \n",
      "                                                                 \n",
      " dense_1 (Dense)             (None, 1)                 257       \n",
      "                                                                 \n",
      "=================================================================\n",
      "Total params: 1680033 (6.41 MB)\n",
      "Trainable params: 1680033 (6.41 MB)\n",
      "Non-trainable params: 0 (0.00 Byte)\n",
      "_________________________________________________________________\n"
     ]
    }
   ],
   "source": [
    "model.summary()"
   ]
  },
  {
   "cell_type": "code",
   "execution_count": 9,
   "metadata": {},
   "outputs": [],
   "source": [
    "# 모델 컴파일\n",
    "model.compile(optimizer=Adam(learning_rate=0.001),\n",
    "              loss='binary_crossentropy',\n",
    "              metrics=['accuracy'])"
   ]
  },
  {
   "cell_type": "code",
   "execution_count": 10,
   "metadata": {},
   "outputs": [],
   "source": [
    "# 콜백 함수 정의\n",
    "callbacks = [\n",
    "    EarlyStopping(monitor='val_accuracy', patience=5, restore_best_weights=False) #,\n",
    "    # ModelCheckpoint(filepath='best_model.keras', monitor='val_accuracy', save_best_only=True)\n",
    "]"
   ]
  },
  {
   "cell_type": "code",
   "execution_count": 11,
   "metadata": {},
   "outputs": [
    {
     "name": "stdout",
     "output_type": "stream",
     "text": [
      "Epoch 1/20\n",
      "WARNING:tensorflow:From c:\\labs_python\\.venv\\lib\\site-packages\\keras\\src\\utils\\tf_utils.py:492: The name tf.ragged.RaggedTensorValue is deprecated. Please use tf.compat.v1.ragged.RaggedTensorValue instead.\n",
      "\n",
      "WARNING:tensorflow:From c:\\labs_python\\.venv\\lib\\site-packages\\keras\\src\\engine\\base_layer_utils.py:384: The name tf.executing_eagerly_outside_functions is deprecated. Please use tf.compat.v1.executing_eagerly_outside_functions instead.\n",
      "\n",
      "72/72 [==============================] - 23s 303ms/step - loss: 4.3558 - accuracy: 0.5117 - val_loss: 0.6921 - val_accuracy: 0.5208\n",
      "Epoch 2/20\n",
      "72/72 [==============================] - 21s 294ms/step - loss: 0.6847 - accuracy: 0.5484 - val_loss: 0.6752 - val_accuracy: 0.5104\n",
      "Epoch 3/20\n",
      "72/72 [==============================] - 22s 304ms/step - loss: 0.6717 - accuracy: 0.5928 - val_loss: 0.6565 - val_accuracy: 0.6107\n",
      "Epoch 4/20\n",
      "72/72 [==============================] - 21s 298ms/step - loss: 0.6546 - accuracy: 0.6111 - val_loss: 0.6815 - val_accuracy: 0.4948\n",
      "Epoch 5/20\n",
      "72/72 [==============================] - 21s 299ms/step - loss: 0.6476 - accuracy: 0.6247 - val_loss: 0.6755 - val_accuracy: 0.6263\n",
      "Epoch 6/20\n",
      "72/72 [==============================] - 22s 300ms/step - loss: 0.6240 - accuracy: 0.6670 - val_loss: 0.6473 - val_accuracy: 0.5952\n",
      "Epoch 7/20\n",
      "72/72 [==============================] - 22s 301ms/step - loss: 0.6103 - accuracy: 0.6716 - val_loss: 0.6364 - val_accuracy: 0.6280\n",
      "Epoch 8/20\n",
      "72/72 [==============================] - 22s 301ms/step - loss: 0.5711 - accuracy: 0.7139 - val_loss: 0.6384 - val_accuracy: 0.6436\n",
      "Epoch 9/20\n",
      "72/72 [==============================] - 22s 306ms/step - loss: 0.5544 - accuracy: 0.7309 - val_loss: 0.6621 - val_accuracy: 0.6678\n",
      "Epoch 10/20\n",
      "72/72 [==============================] - 22s 307ms/step - loss: 0.4961 - accuracy: 0.7582 - val_loss: 0.6053 - val_accuracy: 0.6972\n",
      "Epoch 11/20\n",
      "72/72 [==============================] - 23s 318ms/step - loss: 0.4202 - accuracy: 0.8047 - val_loss: 0.7459 - val_accuracy: 0.6972\n",
      "Epoch 12/20\n",
      "72/72 [==============================] - 22s 308ms/step - loss: 0.3976 - accuracy: 0.8141 - val_loss: 0.8151 - val_accuracy: 0.6834\n",
      "Epoch 13/20\n",
      "72/72 [==============================] - 22s 309ms/step - loss: 0.3421 - accuracy: 0.8559 - val_loss: 0.7867 - val_accuracy: 0.7266\n",
      "Epoch 14/20\n",
      "72/72 [==============================] - 22s 310ms/step - loss: 0.2838 - accuracy: 0.8819 - val_loss: 0.7909 - val_accuracy: 0.7318\n",
      "Epoch 15/20\n",
      "72/72 [==============================] - 23s 318ms/step - loss: 0.2256 - accuracy: 0.9028 - val_loss: 0.7954 - val_accuracy: 0.7509\n",
      "Epoch 16/20\n",
      "72/72 [==============================] - 23s 318ms/step - loss: 0.2304 - accuracy: 0.9053 - val_loss: 0.8768 - val_accuracy: 0.7128\n",
      "Epoch 17/20\n",
      "72/72 [==============================] - 22s 312ms/step - loss: 0.2104 - accuracy: 0.9139 - val_loss: 0.7991 - val_accuracy: 0.7215\n",
      "Epoch 18/20\n",
      "72/72 [==============================] - 22s 309ms/step - loss: 0.1751 - accuracy: 0.9356 - val_loss: 0.8642 - val_accuracy: 0.7647\n",
      "Epoch 19/20\n",
      "72/72 [==============================] - 22s 310ms/step - loss: 0.1063 - accuracy: 0.9620 - val_loss: 1.0163 - val_accuracy: 0.7751\n",
      "Epoch 20/20\n",
      "51/72 [====================>.........] - ETA: 6s - loss: 0.1239 - accuracy: 0.9554WARNING:tensorflow:Your input ran out of data; interrupting training. Make sure that your dataset or generator can generate at least `steps_per_epoch * epochs` batches (in this case, 1440 batches). You may need to use the repeat() function when building your dataset.\n",
      "72/72 [==============================] - 16s 227ms/step - loss: 0.1238 - accuracy: 0.9555 - val_loss: 1.0613 - val_accuracy: 0.7301\n"
     ]
    }
   ],
   "source": [
    "# 모델 학습\n",
    "history = model.fit(\n",
    "    X_train,\n",
    "    y_train,\n",
    "    steps_per_epoch=len(X_train) // 32,\n",
    "    epochs=20,\n",
    "    validation_data=(X_test, y_test),\n",
    "    callbacks=callbacks\n",
    ")"
   ]
  },
  {
   "cell_type": "code",
   "execution_count": 12,
   "metadata": {},
   "outputs": [
    {
     "data": {
      "image/png": "[encoded data removed]",
      "text/plain": [
       "<Figure size 640x480 with 1 Axes>"
      ]
     },
     "metadata": {},
     "output_type": "display_data"
    }
   ],
   "source": [
    "import matplotlib.pyplot as plt\n",
    "\n",
    "plt.plot(history.history['accuracy'])\n",
    "plt.plot(history.history['val_accuracy'])\n",
    "plt.title('Accuracy')\n",
    "plt.ylabel('Accuracy')\n",
    "plt.xlabel('Epoch')\n",
    "plt.legend(['training', 'validation'], loc='best')\n",
    "plt.show()"
   ]
  }
 ],
 "metadata": {
  "kernelspec": {
   "display_name": ".venv",
   "language": "python",
   "name": "python3"
  },
  "language_info": {
   "codemirror_mode": {
    "name": "ipython",
    "version": 3
   },
   "file_extension": ".py",
   "mimetype": "text/x-python",
   "name": "python",
   "nbconvert_exporter": "python",
   "pygments_lexer": "ipython3",
   "version": "3.10.11"
  }
 },
 "nbformat": 4,
 "nbformat_minor": 2
}
